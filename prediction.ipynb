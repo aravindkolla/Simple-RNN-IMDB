{
 "cells": [
  {
   "cell_type": "code",
   "execution_count": 4,
   "metadata": {},
   "outputs": [],
   "source": [
    "# Step 1: Import Libraries and Load the Model\n",
    "import numpy as np\n",
    "import tensorflow as tf\n",
    "from tensorflow.keras.datasets import imdb\n",
    "from tensorflow.keras.preprocessing import sequence\n",
    "from tensorflow.keras.models import load_model"
   ]
  },
  {
   "cell_type": "code",
   "execution_count": 2,
   "metadata": {},
   "outputs": [],
   "source": [
    "\n",
    "# Load the IMDB dataset word index\n",
    "word_index = imdb.get_word_index()\n",
    "reverse_word_index = {value: key for key, value in word_index.items()}"
   ]
  },
  {
   "cell_type": "code",
   "execution_count": 5,
   "metadata": {},
   "outputs": [
    {
     "name": "stderr",
     "output_type": "stream",
     "text": [
      "WARNING:absl:Compiled the loaded model, but the compiled metrics have yet to be built. `model.compile_metrics` will be empty until you train or evaluate the model.\n"
     ]
    },
    {
     "data": {
      "text/html": [
       "<pre style=\"white-space:pre;overflow-x:auto;line-height:normal;font-family:Menlo,'DejaVu Sans Mono',consolas,'Courier New',monospace\"><span style=\"font-weight: bold\">Model: \"sequential\"</span>\n",
       "</pre>\n"
      ],
      "text/plain": [
       "\u001b[1mModel: \"sequential\"\u001b[0m\n"
      ]
     },
     "metadata": {},
     "output_type": "display_data"
    },
    {
     "data": {
      "text/html": [
       "<pre style=\"white-space:pre;overflow-x:auto;line-height:normal;font-family:Menlo,'DejaVu Sans Mono',consolas,'Courier New',monospace\">┏━━━━━━━━━━━━━━━━━━━━━━━━━━━━━━━━━┳━━━━━━━━━━━━━━━━━━━━━━━━┳━━━━━━━━━━━━━━━┓\n",
       "┃<span style=\"font-weight: bold\"> Layer (type)                    </span>┃<span style=\"font-weight: bold\"> Output Shape           </span>┃<span style=\"font-weight: bold\">       Param # </span>┃\n",
       "┡━━━━━━━━━━━━━━━━━━━━━━━━━━━━━━━━━╇━━━━━━━━━━━━━━━━━━━━━━━━╇━━━━━━━━━━━━━━━┩\n",
       "│ embedding (<span style=\"color: #0087ff; text-decoration-color: #0087ff\">Embedding</span>)           │ (<span style=\"color: #00af00; text-decoration-color: #00af00\">32</span>, <span style=\"color: #00af00; text-decoration-color: #00af00\">500</span>, <span style=\"color: #00af00; text-decoration-color: #00af00\">128</span>)         │     <span style=\"color: #00af00; text-decoration-color: #00af00\">1,280,000</span> │\n",
       "├─────────────────────────────────┼────────────────────────┼───────────────┤\n",
       "│ simple_rnn (<span style=\"color: #0087ff; text-decoration-color: #0087ff\">SimpleRNN</span>)          │ (<span style=\"color: #00af00; text-decoration-color: #00af00\">32</span>, <span style=\"color: #00af00; text-decoration-color: #00af00\">128</span>)              │        <span style=\"color: #00af00; text-decoration-color: #00af00\">32,896</span> │\n",
       "├─────────────────────────────────┼────────────────────────┼───────────────┤\n",
       "│ dense (<span style=\"color: #0087ff; text-decoration-color: #0087ff\">Dense</span>)                   │ (<span style=\"color: #00af00; text-decoration-color: #00af00\">32</span>, <span style=\"color: #00af00; text-decoration-color: #00af00\">1</span>)                │           <span style=\"color: #00af00; text-decoration-color: #00af00\">129</span> │\n",
       "└─────────────────────────────────┴────────────────────────┴───────────────┘\n",
       "</pre>\n"
      ],
      "text/plain": [
       "┏━━━━━━━━━━━━━━━━━━━━━━━━━━━━━━━━━┳━━━━━━━━━━━━━━━━━━━━━━━━┳━━━━━━━━━━━━━━━┓\n",
       "┃\u001b[1m \u001b[0m\u001b[1mLayer (type)                   \u001b[0m\u001b[1m \u001b[0m┃\u001b[1m \u001b[0m\u001b[1mOutput Shape          \u001b[0m\u001b[1m \u001b[0m┃\u001b[1m \u001b[0m\u001b[1m      Param #\u001b[0m\u001b[1m \u001b[0m┃\n",
       "┡━━━━━━━━━━━━━━━━━━━━━━━━━━━━━━━━━╇━━━━━━━━━━━━━━━━━━━━━━━━╇━━━━━━━━━━━━━━━┩\n",
       "│ embedding (\u001b[38;5;33mEmbedding\u001b[0m)           │ (\u001b[38;5;34m32\u001b[0m, \u001b[38;5;34m500\u001b[0m, \u001b[38;5;34m128\u001b[0m)         │     \u001b[38;5;34m1,280,000\u001b[0m │\n",
       "├─────────────────────────────────┼────────────────────────┼───────────────┤\n",
       "│ simple_rnn (\u001b[38;5;33mSimpleRNN\u001b[0m)          │ (\u001b[38;5;34m32\u001b[0m, \u001b[38;5;34m128\u001b[0m)              │        \u001b[38;5;34m32,896\u001b[0m │\n",
       "├─────────────────────────────────┼────────────────────────┼───────────────┤\n",
       "│ dense (\u001b[38;5;33mDense\u001b[0m)                   │ (\u001b[38;5;34m32\u001b[0m, \u001b[38;5;34m1\u001b[0m)                │           \u001b[38;5;34m129\u001b[0m │\n",
       "└─────────────────────────────────┴────────────────────────┴───────────────┘\n"
      ]
     },
     "metadata": {},
     "output_type": "display_data"
    },
    {
     "data": {
      "text/html": [
       "<pre style=\"white-space:pre;overflow-x:auto;line-height:normal;font-family:Menlo,'DejaVu Sans Mono',consolas,'Courier New',monospace\"><span style=\"font-weight: bold\"> Total params: </span><span style=\"color: #00af00; text-decoration-color: #00af00\">1,313,027</span> (5.01 MB)\n",
       "</pre>\n"
      ],
      "text/plain": [
       "\u001b[1m Total params: \u001b[0m\u001b[38;5;34m1,313,027\u001b[0m (5.01 MB)\n"
      ]
     },
     "metadata": {},
     "output_type": "display_data"
    },
    {
     "data": {
      "text/html": [
       "<pre style=\"white-space:pre;overflow-x:auto;line-height:normal;font-family:Menlo,'DejaVu Sans Mono',consolas,'Courier New',monospace\"><span style=\"font-weight: bold\"> Trainable params: </span><span style=\"color: #00af00; text-decoration-color: #00af00\">1,313,025</span> (5.01 MB)\n",
       "</pre>\n"
      ],
      "text/plain": [
       "\u001b[1m Trainable params: \u001b[0m\u001b[38;5;34m1,313,025\u001b[0m (5.01 MB)\n"
      ]
     },
     "metadata": {},
     "output_type": "display_data"
    },
    {
     "data": {
      "text/html": [
       "<pre style=\"white-space:pre;overflow-x:auto;line-height:normal;font-family:Menlo,'DejaVu Sans Mono',consolas,'Courier New',monospace\"><span style=\"font-weight: bold\"> Non-trainable params: </span><span style=\"color: #00af00; text-decoration-color: #00af00\">0</span> (0.00 B)\n",
       "</pre>\n"
      ],
      "text/plain": [
       "\u001b[1m Non-trainable params: \u001b[0m\u001b[38;5;34m0\u001b[0m (0.00 B)\n"
      ]
     },
     "metadata": {},
     "output_type": "display_data"
    },
    {
     "data": {
      "text/html": [
       "<pre style=\"white-space:pre;overflow-x:auto;line-height:normal;font-family:Menlo,'DejaVu Sans Mono',consolas,'Courier New',monospace\"><span style=\"font-weight: bold\"> Optimizer params: </span><span style=\"color: #00af00; text-decoration-color: #00af00\">2</span> (12.00 B)\n",
       "</pre>\n"
      ],
      "text/plain": [
       "\u001b[1m Optimizer params: \u001b[0m\u001b[38;5;34m2\u001b[0m (12.00 B)\n"
      ]
     },
     "metadata": {},
     "output_type": "display_data"
    }
   ],
   "source": [
    "# Load the pre-trained model with ReLU activation\n",
    "model = load_model('simple_rnn_imdb.h5')\n",
    "model.summary()"
   ]
  },
  {
   "cell_type": "code",
   "execution_count": 6,
   "metadata": {},
   "outputs": [
    {
     "data": {
      "text/plain": [
       "[array([[ 0.49976778, -0.27907127,  0.38133445, ..., -0.57302725,\n",
       "         -0.5087278 , -0.03437128],\n",
       "        [-0.0051515 , -0.00083935,  0.04759761, ..., -0.02533564,\n",
       "         -0.02151824,  0.01750083],\n",
       "        [-0.06175988, -0.10109051, -0.0402081 , ..., -0.11202633,\n",
       "         -0.05940024, -0.01334071],\n",
       "        ...,\n",
       "        [ 0.02023239, -0.03032524,  0.03479446, ...,  0.01787472,\n",
       "         -0.06409916, -0.02102353],\n",
       "        [-0.03641108,  0.00654952,  0.01214269, ...,  0.09570628,\n",
       "          0.06627215,  0.01113503],\n",
       "        [-0.00949966, -0.00326354,  0.10772499, ..., -0.07374331,\n",
       "         -0.05407925,  0.01468961]], dtype=float32),\n",
       " array([[-0.06462496, -0.17404486,  0.12644632, ...,  0.12408227,\n",
       "         -0.14666985,  0.00185979],\n",
       "        [-0.09206232,  0.11929382,  0.07757106, ...,  0.10278556,\n",
       "          0.09694227,  0.08074714],\n",
       "        [ 0.01489647,  0.17330769,  0.09486008, ...,  0.16439617,\n",
       "          0.06719723,  0.00398739],\n",
       "        ...,\n",
       "        [ 0.04236358, -0.11583424, -0.08193942, ...,  0.12859279,\n",
       "         -0.08870561,  0.09429934],\n",
       "        [ 0.06055373,  0.04077286, -0.07275324, ..., -0.08210701,\n",
       "          0.11473883, -0.06009543],\n",
       "        [-0.0052897 ,  0.10056599, -0.11789302, ...,  0.03786529,\n",
       "          0.09177227, -0.0542326 ]], dtype=float32),\n",
       " array([[-0.01680434,  0.0391199 ,  0.05107794, ..., -0.08584704,\n",
       "          0.01003702, -0.10799566],\n",
       "        [ 0.14751102, -0.029088  , -0.03616977, ...,  0.13715395,\n",
       "          0.05393   ,  0.05734278],\n",
       "        [ 0.0305294 , -0.17404194, -0.06833354, ...,  0.02771901,\n",
       "         -0.05804355,  0.04831056],\n",
       "        ...,\n",
       "        [ 0.00309641, -0.0063322 , -0.11227483, ...,  0.10170957,\n",
       "          0.09054907, -0.08827831],\n",
       "        [-0.1842146 ,  0.07344403,  0.10397869, ..., -0.02519098,\n",
       "          0.02364904,  0.21937871],\n",
       "        [-0.0031562 , -0.10607754,  0.02747611, ..., -0.02732513,\n",
       "         -0.05731268,  0.06624671]], dtype=float32),\n",
       " array([-0.00465376, -0.00399223, -0.07458264, -0.05132667, -0.0022396 ,\n",
       "        -0.01412912,  0.01911947, -0.05235377,  0.01441353, -0.02926399,\n",
       "         0.00343592, -0.00840533,  0.01274675,  0.00255764, -0.01386166,\n",
       "        -0.04325867,  0.03406736, -0.02335063,  0.01171684,  0.05111669,\n",
       "        -0.0167707 , -0.02493702,  0.0026328 ,  0.02026575,  0.00389109,\n",
       "        -0.00275847, -0.02468711, -0.00596707,  0.01386953,  0.05845436,\n",
       "         0.00373515, -0.01116567, -0.00709083, -0.01061666,  0.01976079,\n",
       "        -0.03649735,  0.01414336, -0.01233068,  0.02566735, -0.00608048,\n",
       "        -0.03092001, -0.01441305,  0.00230989, -0.0188307 ,  0.02351124,\n",
       "        -0.01749284,  0.00088884, -0.03621597, -0.03693185, -0.00066956,\n",
       "        -0.0586654 ,  0.01683188, -0.00282027,  0.00151906, -0.00498124,\n",
       "        -0.00829055, -0.00578785, -0.00025796,  0.02962421, -0.07339942,\n",
       "        -0.00134027,  0.01643792, -0.0708388 , -0.06970546, -0.01885846,\n",
       "        -0.03191008, -0.05362803, -0.02374202, -0.06344064, -0.04526942,\n",
       "         0.01410523, -0.01876182, -0.0470738 , -0.01845683, -0.00569461,\n",
       "        -0.03170107, -0.00571085,  0.0101386 , -0.05801098, -0.03670783,\n",
       "         0.01708837, -0.01907625,  0.0138022 , -0.02237875, -0.04096878,\n",
       "        -0.02178352, -0.03213412, -0.01195249, -0.02705635, -0.02196586,\n",
       "        -0.04835304, -0.02531637,  0.0065357 , -0.01889966, -0.05061156,\n",
       "        -0.01455249,  0.01687352, -0.03378238,  0.02039767, -0.00258718,\n",
       "        -0.02130865, -0.03991082, -0.02873874, -0.02152152, -0.00368071,\n",
       "        -0.02722898,  0.00535314, -0.01998373, -0.01461423, -0.04815541,\n",
       "        -0.03052417,  0.0152686 ,  0.00331003, -0.03254572, -0.00357125,\n",
       "        -0.03190277, -0.03293372, -0.02936136, -0.00762146, -0.02707137,\n",
       "        -0.02288557, -0.03567045, -0.02011382, -0.01445126, -0.01788756,\n",
       "         0.0283239 ,  0.00533595,  0.01475165], dtype=float32),\n",
       " array([[ 1.93003461e-01],\n",
       "        [-6.51006550e-02],\n",
       "        [-4.38837647e-01],\n",
       "        [-6.60470724e-02],\n",
       "        [-1.48898885e-01],\n",
       "        [-2.54499484e-02],\n",
       "        [-7.61878714e-02],\n",
       "        [-6.82903647e-01],\n",
       "        [-6.50186390e-02],\n",
       "        [-7.29075596e-02],\n",
       "        [ 4.16456647e-02],\n",
       "        [ 2.30650917e-01],\n",
       "        [ 1.77695364e-01],\n",
       "        [ 3.45446289e-01],\n",
       "        [-1.89237967e-02],\n",
       "        [ 8.82018078e-03],\n",
       "        [ 1.66505024e-01],\n",
       "        [ 2.11969271e-01],\n",
       "        [ 1.73175469e-01],\n",
       "        [-3.91421802e-02],\n",
       "        [ 3.36180538e-01],\n",
       "        [-1.10360906e-02],\n",
       "        [ 1.78932082e-02],\n",
       "        [-1.09612063e-01],\n",
       "        [-1.42032647e+00],\n",
       "        [-1.14263184e-01],\n",
       "        [ 3.03897657e-04],\n",
       "        [-2.75790542e-01],\n",
       "        [ 1.22743189e+00],\n",
       "        [-1.35200933e-01],\n",
       "        [ 9.70941689e-03],\n",
       "        [ 5.18568605e-02],\n",
       "        [-7.32670426e-02],\n",
       "        [ 8.67912248e-02],\n",
       "        [-1.63594767e-01],\n",
       "        [ 1.56270713e-01],\n",
       "        [-2.01309416e-02],\n",
       "        [ 9.59028676e-02],\n",
       "        [ 1.36786448e-02],\n",
       "        [-9.55451950e-02],\n",
       "        [ 1.10420734e-01],\n",
       "        [-3.66764478e-02],\n",
       "        [ 2.34067693e-01],\n",
       "        [ 5.25212847e-02],\n",
       "        [ 1.99729666e-01],\n",
       "        [ 6.37723282e-02],\n",
       "        [-1.18889920e-01],\n",
       "        [ 4.93057556e-02],\n",
       "        [-1.40040427e-01],\n",
       "        [-1.03537649e-01],\n",
       "        [ 3.21622714e-02],\n",
       "        [-2.04677716e-01],\n",
       "        [-1.55167714e-01],\n",
       "        [-2.17723697e-01],\n",
       "        [-1.31711423e-01],\n",
       "        [ 1.00157440e-01],\n",
       "        [ 8.41055587e-02],\n",
       "        [ 2.89123598e-02],\n",
       "        [ 1.46474510e-01],\n",
       "        [-1.96623281e-01],\n",
       "        [-2.71002122e-04],\n",
       "        [ 1.90385088e-01],\n",
       "        [-1.27478611e+00],\n",
       "        [-3.01782161e-01],\n",
       "        [-5.12985997e-02],\n",
       "        [ 4.56022285e-02],\n",
       "        [-4.87745218e-02],\n",
       "        [-1.01474784e-01],\n",
       "        [-2.32158676e-01],\n",
       "        [-2.56035961e-02],\n",
       "        [ 1.30041108e-01],\n",
       "        [-1.98308788e-02],\n",
       "        [-1.28578067e-01],\n",
       "        [ 1.97077245e-01],\n",
       "        [ 1.31261036e-01],\n",
       "        [ 5.98533563e-02],\n",
       "        [ 2.52618100e-02],\n",
       "        [ 3.72666568e-02],\n",
       "        [ 1.93348870e-01],\n",
       "        [-1.98009145e-02],\n",
       "        [ 1.60856798e-01],\n",
       "        [ 4.67086524e-01],\n",
       "        [-2.39933450e-02],\n",
       "        [ 1.90262273e-01],\n",
       "        [-2.09295928e-01],\n",
       "        [-1.27884448e-01],\n",
       "        [ 2.01890171e-01],\n",
       "        [ 1.41611040e-01],\n",
       "        [-1.49287218e-02],\n",
       "        [ 2.43594691e-01],\n",
       "        [ 2.50194222e-01],\n",
       "        [ 1.17806219e-01],\n",
       "        [ 1.92720041e-01],\n",
       "        [ 6.24583140e-02],\n",
       "        [-2.76622355e-01],\n",
       "        [ 1.72522992e-01],\n",
       "        [ 1.59100980e-01],\n",
       "        [ 1.49332583e-01],\n",
       "        [ 3.40667814e-01],\n",
       "        [ 4.50950414e-02],\n",
       "        [ 1.01422317e-01],\n",
       "        [-8.85753483e-02],\n",
       "        [-1.42610753e+00],\n",
       "        [ 1.94881126e-01],\n",
       "        [-7.14101791e-02],\n",
       "        [ 7.21494257e-02],\n",
       "        [ 2.08941564e-01],\n",
       "        [-5.59313446e-02],\n",
       "        [ 1.98941648e-01],\n",
       "        [-3.50666314e-01],\n",
       "        [ 9.51009542e-02],\n",
       "        [ 7.77995884e-02],\n",
       "        [-9.86668915e-02],\n",
       "        [ 2.03256682e-01],\n",
       "        [ 1.71354651e-01],\n",
       "        [ 2.08075300e-01],\n",
       "        [-7.32088268e-01],\n",
       "        [ 1.54822707e-01],\n",
       "        [-1.49624184e-01],\n",
       "        [ 1.39247894e-01],\n",
       "        [ 9.09256563e-02],\n",
       "        [-1.19288429e-03],\n",
       "        [-1.45918146e-01],\n",
       "        [ 2.87643939e-01],\n",
       "        [-1.32434219e-01],\n",
       "        [ 1.96037233e-01],\n",
       "        [-1.59834698e-01],\n",
       "        [-1.17708169e-01]], dtype=float32),\n",
       " array([0.00439867], dtype=float32)]"
      ]
     },
     "execution_count": 6,
     "metadata": {},
     "output_type": "execute_result"
    }
   ],
   "source": [
    "model.get_weights()"
   ]
  },
  {
   "cell_type": "code",
   "execution_count": 7,
   "metadata": {},
   "outputs": [],
   "source": [
    "# Step 2: Helper Functions\n",
    "# Function to decode reviews\n",
    "def decode_review(encoded_review):\n",
    "    return ' '.join([reverse_word_index.get(i - 3, '?') for i in encoded_review])\n",
    "\n",
    "# Function to preprocess user input\n",
    "def preprocess_text(text):\n",
    "    words = text.lower().split()\n",
    "    encoded_review = [word_index.get(word, 2) + 3 for word in words]\n",
    "    padded_review = sequence.pad_sequences([encoded_review], maxlen=500)\n",
    "    return padded_review"
   ]
  },
  {
   "cell_type": "code",
   "execution_count": 8,
   "metadata": {},
   "outputs": [],
   "source": [
    "### Prediction  function\n",
    "\n",
    "def predict_sentiment(review):\n",
    "    preprocessed_input=preprocess_text(review)\n",
    "\n",
    "    prediction=model.predict(preprocessed_input)\n",
    "\n",
    "    sentiment = 'Positive' if prediction[0][0] > 0.5 else 'Negative'\n",
    "    \n",
    "    return sentiment, prediction[0][0]\n",
    "\n"
   ]
  },
  {
   "cell_type": "code",
   "execution_count": 9,
   "metadata": {},
   "outputs": [
    {
     "name": "stdout",
     "output_type": "stream",
     "text": [
      "\u001b[1m1/1\u001b[0m \u001b[32m━━━━━━━━━━━━━━━━━━━━\u001b[0m\u001b[37m\u001b[0m \u001b[1m1s\u001b[0m 1s/step\n",
      "Review: This movie was fantastic! The acting was great and the plot was thrilling.\n",
      "Sentiment: Positive\n",
      "Prediction Score: 0.580451250076294\n"
     ]
    }
   ],
   "source": [
    "# Step 4: User Input and Prediction\n",
    "# Example review for prediction\n",
    "example_review = \"This movie was fantastic! The acting was great and the plot was thrilling.\"\n",
    "\n",
    "sentiment,score=predict_sentiment(example_review)\n",
    "\n",
    "print(f'Review: {example_review}')\n",
    "print(f'Sentiment: {sentiment}')\n",
    "print(f'Prediction Score: {score}')"
   ]
  },
  {
   "cell_type": "code",
   "execution_count": null,
   "metadata": {},
   "outputs": [],
   "source": []
  }
 ],
 "metadata": {
  "kernelspec": {
   "display_name": "Python 3",
   "language": "python",
   "name": "python3"
  },
  "language_info": {
   "codemirror_mode": {
    "name": "ipython",
    "version": 3
   },
   "file_extension": ".py",
   "mimetype": "text/x-python",
   "name": "python",
   "nbconvert_exporter": "python",
   "pygments_lexer": "ipython3",
   "version": "3.12.0"
  }
 },
 "nbformat": 4,
 "nbformat_minor": 2
}
